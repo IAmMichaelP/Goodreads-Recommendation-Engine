{
  "nbformat": 4,
  "nbformat_minor": 0,
  "metadata": {
    "colab": {
      "provenance": []
    },
    "kernelspec": {
      "name": "python3",
      "display_name": "Python 3"
    },
    "language_info": {
      "name": "python"
    }
  },
  "cells": [
    {
      "cell_type": "code",
      "source": [
        "import sys\n",
        "\n",
        "assert sys.version_info >= (3, 7)"
      ],
      "metadata": {
        "id": "rWTFG-TMHzwG"
      },
      "execution_count": 21,
      "outputs": []
    },
    {
      "cell_type": "code",
      "source": [
        "from packaging import version\n",
        "import sklearn\n",
        "\n",
        "assert version.parse(sklearn.__version__) >= version.parse(\"1.0.1\")"
      ],
      "metadata": {
        "id": "QGRQpf-1H7nL"
      },
      "execution_count": 22,
      "outputs": []
    },
    {
      "cell_type": "code",
      "source": [
        "import matplotlib.pyplot as plt\n",
        "\n",
        "plt.rc('font', size=14)\n",
        "plt.rc('axes', labelsize=14, titlesize=14)\n",
        "plt.rc('legend', fontsize=14)\n",
        "plt.rc('xtick', labelsize=10)\n",
        "plt.rc('ytick', labelsize=10)"
      ],
      "metadata": {
        "id": "DUStIgNuH8Mn"
      },
      "execution_count": 23,
      "outputs": []
    },
    {
      "cell_type": "code",
      "execution_count": 24,
      "metadata": {
        "id": "QwFpMEqW3jSV"
      },
      "outputs": [],
      "source": [
        "# !pip install isbnlib\n",
        "# !pip install newspaper3k\n",
        "# !pip install goodreads_api_client"
      ]
    },
    {
      "cell_type": "code",
      "source": [
        "import matplotlib.pyplot as plt\n",
        "import numpy as np\n",
        "import pandas as pd\n",
        "from sklearn.tree import DecisionTreeClassifier\n",
        "from sklearn.model_selection import train_test_split\n",
        "from sklearn.metrics import accuracy_score"
      ],
      "metadata": {
        "id": "XcF4rL0SDyNk"
      },
      "execution_count": 25,
      "outputs": []
    },
    {
      "cell_type": "code",
      "source": [
        "from google.colab import drive\n",
        "drive.mount('/content/drive')"
      ],
      "metadata": {
        "colab": {
          "base_uri": "https://localhost:8080/"
        },
        "id": "RXky3gmt3QxO",
        "outputId": "661813a3-bf43-4f08-bfc1-583d25349a8e"
      },
      "execution_count": 26,
      "outputs": [
        {
          "output_type": "stream",
          "name": "stdout",
          "text": [
            "Drive already mounted at /content/drive; to attempt to forcibly remount, call drive.mount(\"/content/drive\", force_remount=True).\n"
          ]
        }
      ]
    },
    {
      "cell_type": "code",
      "source": [
        "df = pd.read_csv('drive/MyDrive/AI/book_tags.csv', error_bad_lines = False)"
      ],
      "metadata": {
        "id": "vnZNBjYBEmSx",
        "colab": {
          "base_uri": "https://localhost:8080/"
        },
        "outputId": "93126524-621e-45a9-8519-c63ced13ab17"
      },
      "execution_count": 27,
      "outputs": [
        {
          "output_type": "stream",
          "name": "stderr",
          "text": [
            "<ipython-input-27-57390d7c6971>:1: FutureWarning: The error_bad_lines argument has been deprecated and will be removed in a future version. Use on_bad_lines in the future.\n",
            "\n",
            "\n",
            "  df = pd.read_csv('drive/MyDrive/AI/book_tags.csv', error_bad_lines = False)\n"
          ]
        }
      ]
    },
    {
      "cell_type": "code",
      "source": [
        "\n",
        "plt.rc('font', size=14)\n",
        "plt.rc('axes', labelsize=14, titlesize=14)\n",
        "plt.rc('legend', fontsize=14)\n",
        "plt.rc('xtick', labelsize=10)\n",
        "plt.rc('ytick', labelsize=10)"
      ],
      "metadata": {
        "id": "tA2mZtv1RvBG"
      },
      "execution_count": 28,
      "outputs": []
    },
    {
      "cell_type": "code",
      "source": [
        "clf = DecisionTreeClassifier(random_state=42)\n"
      ],
      "metadata": {
        "id": "CGAmhsZbSiZv"
      },
      "execution_count": 29,
      "outputs": []
    },
    {
      "cell_type": "code",
      "source": [
        "from sklearn.metrics import mean_squared_error\n",
        "from sklearn.neighbors import NearestNeighbors"
      ],
      "metadata": {
        "id": "kIBSur8JUbvS"
      },
      "execution_count": 30,
      "outputs": []
    },
    {
      "cell_type": "code",
      "source": [
        "print(df.columns)"
      ],
      "metadata": {
        "id": "GzdtNOsuV3tp",
        "colab": {
          "base_uri": "https://localhost:8080/"
        },
        "outputId": "e823d0d9-9070-4239-cd7e-bd7ab84bdbd8"
      },
      "execution_count": 31,
      "outputs": [
        {
          "output_type": "stream",
          "name": "stdout",
          "text": [
            "Index(['goodreads_book_id', 'tag_id', 'count'], dtype='object')\n"
          ]
        }
      ]
    },
    {
      "cell_type": "code",
      "source": [
        "# Drop duplicates based on the combination of 'tag_id' and 'goodreads_book_id'\n",
        "df_no_duplicates = df.drop_duplicates(subset=['tag_id', 'goodreads_book_id'])\n",
        "\n",
        "# Create a user-item matrix\n",
        "user_item_matrix = df_no_duplicates.pivot(index='tag_id', columns='goodreads_book_id', values='count').fillna(0)"
      ],
      "metadata": {
        "id": "Fno41laaWyIV"
      },
      "execution_count": null,
      "outputs": []
    },
    {
      "cell_type": "code",
      "source": [
        "\n",
        "\n",
        "# Transpose the matrix to have books as rows and bookshelves as columns\n",
        "item_user_matrix = user_item_matrix.T\n",
        "\n",
        "# Split the data into training and testing sets\n",
        "train_data, test_data = train_test_split(item_user_matrix.values, test_size=0.2, random_state=42)\n",
        "\n",
        "# Initialize and fit a Nearest Neighbors model\n",
        "model = NearestNeighbors(metric='cosine', algorithm='brute')\n",
        "model.fit(train_data)\n",
        "\n"
      ],
      "metadata": {
        "id": "529ECjDgUd2Y"
      },
      "execution_count": null,
      "outputs": []
    },
    {
      "cell_type": "code",
      "source": [
        "# Assuming this is a simple recommendation function\n",
        "def recommend_items(user_history, num_recommendations=5):\n",
        "    # Implement your recommendation logic\n",
        "    recommendations = np.argsort(user_history)[-num_recommendations:][::-1]\n",
        "    return recommendations\n",
        "\n",
        "# Evaluate recommendations for each \"user\" in the test set\n",
        "evaluation_results = []\n",
        "\n",
        "def hit_rate(actual_items, recommended_items):\n",
        "    return int(any(item in actual_items for item in recommended_items))\n",
        "\n",
        "def mean_reciprocal_rank(rank_list):\n",
        "    for i, rank in enumerate(rank_list, start=1):\n",
        "        if rank == 1:\n",
        "            return 1 / i\n",
        "    return 0\n",
        "\n",
        "def discounted_cumulative_gain(actual_items, recommended_items, k=None):\n",
        "    if k is None:\n",
        "        k = len(recommended_items)\n",
        "\n",
        "    # Calculate the gain for each recommended item\n",
        "    gain = [1 if item in actual_items else 0 for item in recommended_items]\n",
        "\n",
        "    # Calculate discounted cumulative gain\n",
        "    dcg = np.sum([(2 ** g - 1) / np.log2(i + 2) for i, g in enumerate(gain[:k])])\n",
        "\n",
        "    return dcg\n",
        "\n",
        "def normalized_discounted_cumulative_gain(actual_items, recommended_items, k=None):\n",
        "    # Calculate discounted cumulative gain\n",
        "    dcg = discounted_cumulative_gain(actual_items, recommended_items, k)\n",
        "\n",
        "    # Calculate ideal discounted cumulative gain\n",
        "    ideal_gain = sorted([1 if item in actual_items else 0 for item in recommended_items], reverse=True)\n",
        "    idcg = np.sum([(2 ** g - 1) / np.log2(i + 2) for i, g in enumerate(ideal_gain[:k])])\n",
        "\n",
        "    # Calculate normalized discounted cumulative gain\n",
        "    ndcg = dcg / idcg if idcg > 0 else 0\n",
        "\n",
        "    return ndcg\n",
        "\n",
        "for user_index in range(test_data.shape[0]):\n",
        "    user_history = train_data[user_index, :]\n",
        "    actual_items = test_data[user_index, :]\n",
        "\n",
        "    # Get recommended items for the user\n",
        "    recommended_items = recommend_items(user_history)\n",
        "\n",
        "    # Calculate and store metrics (Hit Rate, MRR, NDCG, etc.)\n",
        "    hit = hit_rate(actual_items, recommended_items)\n",
        "    mrr = mean_reciprocal_rank([1 if item in actual_items else 0 for item in recommended_items])\n",
        "    ndcg = normalized_discounted_cumulative_gain(actual_items, recommended_items, k=5)\n",
        "\n",
        "    evaluation_results.append({'hit_rate': hit, 'mrr': mrr, 'ndcg': ndcg})\n",
        "\n",
        "\n",
        "# Calculate average metrics across all users\n",
        "average_hit_rate = np.mean([result['hit_rate'] for result in evaluation_results])\n",
        "average_mrr = np.mean([result['mrr'] for result in evaluation_results])\n",
        "average_ndcg = np.mean([result['ndcg'] for result in evaluation_results])\n",
        "\n",
        "print(\"Average Hit Rate:\", average_hit_rate)\n",
        "print(\"Average Mean Reciprocal Rank:\", average_mrr)\n",
        "print(\"Average Normalized Discounted Cumulative Gain:\", average_ndcg)"
      ],
      "metadata": {
        "id": "InkveBZ25Yp0"
      },
      "execution_count": null,
      "outputs": []
    },
    {
      "cell_type": "code",
      "source": [
        "# Function to get recommendations for a book\n",
        "def get_recommendations(book_id, model, item_user_matrix, num_neighbors=5):\n",
        "    distances, indices = model.kneighbors(item_user_matrix[book_id].values.reshape(1, -1), n_neighbors=num_neighbors + 1)\n",
        "    recommendations = []\n",
        "    for i in range(1, len(distances.flatten())):\n",
        "        recommendations.append({\n",
        "            'book_id': item_user_matrix.index[indices.flatten()[i]],\n",
        "            'distance': distances.flatten()[i]\n",
        "        })\n",
        "    return recommendations\n",
        "\n",
        "# Example: Get recommendations for a specific book (replace 'your_book_id' with an actual book ID)\n",
        "book_id_to_recommend = '6348045'\n",
        "recommendations = get_recommendations(book_id_to_recommend, model, item_user_matrix)\n",
        "print(f\"Recommendations for Book {book_id_to_recommend}:\", recommendations)"
      ],
      "metadata": {
        "id": "bI9f7gdU49rM"
      },
      "execution_count": null,
      "outputs": []
    }
  ]
}